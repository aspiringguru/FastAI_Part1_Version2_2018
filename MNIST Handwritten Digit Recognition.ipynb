{
 "cells": [
  {
   "cell_type": "code",
   "execution_count": 1,
   "metadata": {},
   "outputs": [],
   "source": [
    "#kernel_name=conda_mxnet_p27\n",
    "#https://github.com/dmlc/mxnet-notebooks/blob/master/python/tutorials/mnist.ipynb"
   ]
  },
  {
   "cell_type": "code",
   "execution_count": 11,
   "metadata": {},
   "outputs": [
    {
     "name": "stdout",
     "output_type": "stream",
     "text": [
      "2.7.14 |Anaconda, Inc.| (default, Dec  7 2017, 17:05:42) \n",
      "[GCC 7.2.0]\n"
     ]
    }
   ],
   "source": [
    "import sys\n",
    "print(sys.version)"
   ]
  },
  {
   "cell_type": "code",
   "execution_count": 18,
   "metadata": {},
   "outputs": [],
   "source": [
    "import numpy as np\n",
    "import os\n",
    "import urllib\n",
    "import gzip\n",
    "import struct\n",
    "import timeit\n",
    "\n",
    "%matplotlib inline  \n",
    "#NBB: this can be made obselete by editing jupyter config file to suit\n",
    "import matplotlib.pyplot as plt\n",
    "import mxnet as mx\n"
   ]
  },
  {
   "cell_type": "code",
   "execution_count": 3,
   "metadata": {},
   "outputs": [],
   "source": [
    "def download_data(url, force_download=True): \n",
    "    #split url into pre/post '/', store the pre '/' component as fname\n",
    "    fname = url.split(\"/\")[-1]\n",
    "    #retrieve from full url if forced o-wise retrieve from local file\n",
    "    if force_download or not os.path.exists(fname):\n",
    "        urllib.urlretrieve(url, fname)\n",
    "    return fname\n"
   ]
  },
  {
   "cell_type": "code",
   "execution_count": 4,
   "metadata": {},
   "outputs": [],
   "source": [
    "def read_data(label_url, image_url):\n",
    "    #download two sets of data from the two urls provided.\n",
    "    #this should be downloading one file from one url at a time.\n",
    "    with gzip.open(download_data(label_url)) as flbl:\n",
    "        magic, num = struct.unpack(\">II\", flbl.read(8))\n",
    "        label = np.fromstring(flbl.read(), dtype=np.int8)\n",
    "\n",
    "    with gzip.open(download_data(image_url), 'rb') as fimg:\n",
    "        magic, num, rows, cols = struct.unpack(\">IIII\", fimg.read(16))\n",
    "        image = np.fromstring(fimg.read(), dtype=np.uint8).reshape(len(label), rows, cols)\n",
    "    return (label, image)\n"
   ]
  },
  {
   "cell_type": "code",
   "execution_count": 12,
   "metadata": {},
   "outputs": [
    {
     "name": "stdout",
     "output_type": "stream",
     "text": [
      "elapsed time : 2.65278697014\n",
      "train_lbl: <type 'numpy.ndarray'> (60000,)\n",
      "train_img: <type 'numpy.ndarray'> (60000, 28, 28)\n",
      "val_lbl: <type 'numpy.ndarray'> (10000,)\n",
      "val_img: <type 'numpy.ndarray'> (10000, 28, 28)\n"
     ]
    }
   ],
   "source": [
    "#NB: only need to download these files once.\n",
    "#NBB: need to exclude these files from the git repo\n",
    "start_time = timeit.default_timer()\n",
    "path='http://yann.lecun.com/exdb/mnist/'\n",
    "(train_lbl, train_img) = read_data(path+'train-labels-idx1-ubyte.gz', path+'train-images-idx3-ubyte.gz')\n",
    "(val_lbl, val_img) = read_data(path+'t10k-labels-idx1-ubyte.gz', path+'t10k-images-idx3-ubyte.gz')\n",
    "print \"elapsed time :\", timeit.default_timer() - start_time\n",
    "print \"train_lbl:\", type(train_lbl), train_lbl.shape\n",
    "print \"train_img:\", type(train_img), train_img.shape\n",
    "print \"val_lbl:\", type(val_lbl), val_lbl.shape\n",
    "print \"val_img:\", type(val_img), val_img.shape\n",
    "#NB: the images are black and white (no greyscale, no rgb color) \n",
    "#the images are stored in arrays of dimension width x height."
   ]
  },
  {
   "cell_type": "code",
   "execution_count": 16,
   "metadata": {},
   "outputs": [
    {
     "name": "stdout",
     "output_type": "stream",
     "text": [
      "train_img[0]: <type 'numpy.ndarray'> (28, 28)\n"
     ]
    }
   ],
   "source": [
    "print \"train_img[0]:\", type(train_img[0]), train_img[0].shape"
   ]
  },
  {
   "cell_type": "code",
   "execution_count": 29,
   "metadata": {},
   "outputs": [
    {
     "name": "stdout",
     "output_type": "stream",
     "text": [
      "train_img[0]: uint8\n",
      "Number of unique values: 256\n",
      "Unique values:\n",
      "[  0   1   2   3   4   5   6   7   8   9  10  11  12  13  14  15  16  17\n",
      "  18  19  20  21  22  23  24  25  26  27  28  29  30  31  32  33  34  35\n",
      "  36  37  38  39  40  41  42  43  44  45  46  47  48  49  50  51  52  53\n",
      "  54  55  56  57  58  59  60  61  62  63  64  65  66  67  68  69  70  71\n",
      "  72  73  74  75  76  77  78  79  80  81  82  83  84  85  86  87  88  89\n",
      "  90  91  92  93  94  95  96  97  98  99 100 101 102 103 104 105 106 107\n",
      " 108 109 110 111 112 113 114 115 116 117 118 119 120 121 122 123 124 125\n",
      " 126 127 128 129 130 131 132 133 134 135 136 137 138 139 140 141 142 143\n",
      " 144 145 146 147 148 149 150 151 152 153 154 155 156 157 158 159 160 161\n",
      " 162 163 164 165 166 167 168 169 170 171 172 173 174 175 176 177 178 179\n",
      " 180 181 182 183 184 185 186 187 188 189 190 191 192 193 194 195 196 197\n",
      " 198 199 200 201 202 203 204 205 206 207 208 209 210 211 212 213 214 215\n",
      " 216 217 218 219 220 221 222 223 224 225 226 227 228 229 230 231 232 233\n",
      " 234 235 236 237 238 239 240 241 242 243 244 245 246 247 248 249 250 251\n",
      " 252 253 254 255]\n"
     ]
    }
   ],
   "source": [
    "print \"train_img[0]:\", train_img[0].dtype\n",
    "#https://docs.scipy.org/doc/numpy-1.13.0/user/basics.types.html\n",
    "#uint8\tUnsigned integer (0 to 255)\n",
    "print \"Number of unique values:\", np.unique(train_img).shape[0]\n",
    "print \"Unique values:\\n\", np.unique(train_img)"
   ]
  },
  {
   "cell_type": "code",
   "execution_count": 17,
   "metadata": {},
   "outputs": [
    {
     "data": {
      "image/png": "[encoded data removed]",
      "text/plain": [
       "<matplotlib.figure.Figure at 0x7fefbfd6f050>"
      ]
     },
     "metadata": {},
     "output_type": "display_data"
    },
    {
     "name": "stdout",
     "output_type": "stream",
     "text": [
      "label: [5 0 4 1 9 2 1 3 1 4]\n"
     ]
    }
   ],
   "source": [
    "#plot first ten images\n",
    "for i in range(10):\n",
    "    plt.subplot(1,10,i+1)\n",
    "    #plt.imshow(train_img[i], cmap='Greys_r')\n",
    "    plt.imshow(train_img[i], cmap='Greys')\n",
    "    plt.axis('off')\n",
    "plt.show()\n",
    "print('label: %s' % (train_lbl[0:10],))\n",
    "\n",
    "#https://matplotlib.org/api/_as_gen/matplotlib.pyplot.imshow.html\n",
    "#cmap : Colormap, optional, default: None\n",
    "#nbb: cmap='Greys' vs cmap='Greys_r' (the _r is for inverse grayscale)"
   ]
  },
  {
   "cell_type": "code",
   "execution_count": 30,
   "metadata": {},
   "outputs": [],
   "source": [
    "#reshape the input data to format normally expected for rgb images.ie from 3D array to 4D array.\n",
    "#convert input data from integer values (0-255) to float values (0.0 to 1.0)\n",
    "def to4d(img):\n",
    "    return img.reshape(img.shape[0], 1, 28, 28).astype(np.float32)/255\n"
   ]
  },
  {
   "cell_type": "code",
   "execution_count": 32,
   "metadata": {},
   "outputs": [
    {
     "name": "stdout",
     "output_type": "stream",
     "text": [
      "('train_iter:', <class 'mxnet.io.NDArrayIter'>)\n",
      "('val_iter:', <class 'mxnet.io.NDArrayIter'>)\n"
     ]
    }
   ],
   "source": [
    "batch_size = 100\n",
    "train_iter = mx.io.NDArrayIter(to4d(train_img), train_lbl, batch_size, shuffle=True)\n",
    "val_iter = mx.io.NDArrayIter(to4d(val_img), val_lbl, batch_size)\n",
    "#mxnet.io.NDArrayIter = https://github.com/apache/incubator-mxnet/blob/master/python/mxnet/io.py\n",
    "print \"train_iter:\", type(train_iter)\n",
    "print \"val_iter:\", type(val_iter)"
   ]
  },
  {
   "cell_type": "code",
   "execution_count": 33,
   "metadata": {},
   "outputs": [
    {
     "name": "stdout",
     "output_type": "stream",
     "text": [
      "data: <class 'mxnet.symbol.symbol.Symbol'>\n",
      "after flatten data: <class 'mxnet.symbol.symbol.Symbol'>\n"
     ]
    }
   ],
   "source": [
    "# Create a place holder variable for the input data\n",
    "data = mx.sym.Variable('data')\n",
    "#mxnet.symbol.Variable = https://mxnet.incubator.apache.org/api/python/symbol/symbol.html#mxnet.symbol.Variable\n",
    "\n",
    "print \"data:\", type(data)\n",
    "\n",
    "# Flatten the data from 4-D shape (batch_size, num_channel, width, height) \n",
    "# into 2-D (batch_size, num_channel*width*height)\n",
    "data = mx.sym.Flatten(data=data)\n",
    "#https://mxnet.incubator.apache.org/api/python/symbol/symbol.html\n",
    "#mxnet.symbol.Flatten(data=None, name=None, attr=None, out=None, **kwargs)\n",
    "#Flattens the input array into a 2-D array by collapsing the higher dimensions.\n",
    "print \"after flatten data:\", type(data)\n"
   ]
  },
  {
   "cell_type": "code",
   "execution_count": 36,
   "metadata": {},
   "outputs": [
    {
     "data": {
      "image/svg+xml": [
       "<?xml version=\"1.0\" encoding=\"UTF-8\" standalone=\"no\"?>\n",
       "<!DOCTYPE svg PUBLIC \"-//W3C//DTD SVG 1.1//EN\"\n",
       " \"http://www.w3.org/Graphics/SVG/1.1/DTD/svg11.dtd\">\n",
       "<!-- Generated by graphviz version 2.38.0 (20140413.2041)\n",
       " -->\n",
       "<!-- Title: plot Pages: 1 -->\n",
       "<svg width=\"214pt\" height=\"829pt\"\n",
       " viewBox=\"0.00 0.00 214.00 829.00\" xmlns=\"http://www.w3.org/2000/svg\" xmlns:xlink=\"http://www.w3.org/1999/xlink\">\n",
       "<g id=\"graph0\" class=\"graph\" transform=\"scale(1 1) rotate(0) translate(4 825)\">\n",
       "<title>plot</title>\n",
       "<polygon fill=\"white\" stroke=\"none\" points=\"-4,4 -4,-825 210,-825 210,4 -4,4\"/>\n",
       "<!-- data -->\n",
       "<g id=\"node1\" class=\"node\"><title>data</title>\n",
       "<ellipse fill=\"#8dd3c7\" stroke=\"black\" cx=\"47\" cy=\"-29\" rx=\"47\" ry=\"29\"/>\n",
       "<text text-anchor=\"middle\" x=\"47\" y=\"-25.3\" font-family=\"Times,serif\" font-size=\"14.00\">data</text>\n",
       "</g>\n",
       "<!-- flatten0 -->\n",
       "<g id=\"node2\" class=\"node\"><title>flatten0</title>\n",
       "<polygon fill=\"#fdb462\" stroke=\"black\" points=\"94,-167 -7.10543e-15,-167 -7.10543e-15,-109 94,-109 94,-167\"/>\n",
       "<text text-anchor=\"middle\" x=\"47\" y=\"-134.3\" font-family=\"Times,serif\" font-size=\"14.00\">flatten0</text>\n",
       "</g>\n",
       "<!-- flatten0&#45;&gt;data -->\n",
       "<g id=\"edge1\" class=\"edge\"><title>flatten0&#45;&gt;data</title>\n",
       "<path fill=\"none\" stroke=\"black\" d=\"M47,-98.5824C47,-85.2841 47,-70.632 47,-58.2967\"/>\n",
       "<polygon fill=\"black\" stroke=\"black\" points=\"47,-108.887 42.5001,-98.887 47,-103.887 47.0001,-98.887 47.0001,-98.887 47.0001,-98.887 47,-103.887 51.5001,-98.8871 47,-108.887 47,-108.887\"/>\n",
       "<text text-anchor=\"middle\" x=\"71\" y=\"-79.8\" font-family=\"Times,serif\" font-size=\"14.00\">1x28x28</text>\n",
       "</g>\n",
       "<!-- fc1 -->\n",
       "<g id=\"node3\" class=\"node\"><title>fc1</title>\n",
       "<polygon fill=\"#fb8072\" stroke=\"black\" points=\"94,-276 -7.10543e-15,-276 -7.10543e-15,-218 94,-218 94,-276\"/>\n",
       "<text text-anchor=\"middle\" x=\"47\" y=\"-250.8\" font-family=\"Times,serif\" font-size=\"14.00\">FullyConnected</text>\n",
       "<text text-anchor=\"middle\" x=\"47\" y=\"-235.8\" font-family=\"Times,serif\" font-size=\"14.00\">128</text>\n",
       "</g>\n",
       "<!-- fc1&#45;&gt;flatten0 -->\n",
       "<g id=\"edge2\" class=\"edge\"><title>fc1&#45;&gt;flatten0</title>\n",
       "<path fill=\"none\" stroke=\"black\" d=\"M47,-207.582C47,-194.284 47,-179.632 47,-167.297\"/>\n",
       "<polygon fill=\"black\" stroke=\"black\" points=\"47,-217.887 42.5001,-207.887 47,-212.887 47.0001,-207.887 47.0001,-207.887 47.0001,-207.887 47,-212.887 51.5001,-207.887 47,-217.887 47,-217.887\"/>\n",
       "<text text-anchor=\"middle\" x=\"57.5\" y=\"-188.8\" font-family=\"Times,serif\" font-size=\"14.00\">784</text>\n",
       "</g>\n",
       "<!-- relu1 -->\n",
       "<g id=\"node4\" class=\"node\"><title>relu1</title>\n",
       "<polygon fill=\"#ffffb3\" stroke=\"black\" points=\"94,-385 -7.10543e-15,-385 -7.10543e-15,-327 94,-327 94,-385\"/>\n",
       "<text text-anchor=\"middle\" x=\"47\" y=\"-359.8\" font-family=\"Times,serif\" font-size=\"14.00\">Activation</text>\n",
       "<text text-anchor=\"middle\" x=\"47\" y=\"-344.8\" font-family=\"Times,serif\" font-size=\"14.00\">relu</text>\n",
       "</g>\n",
       "<!-- relu1&#45;&gt;fc1 -->\n",
       "<g id=\"edge3\" class=\"edge\"><title>relu1&#45;&gt;fc1</title>\n",
       "<path fill=\"none\" stroke=\"black\" d=\"M47,-316.582C47,-303.284 47,-288.632 47,-276.297\"/>\n",
       "<polygon fill=\"black\" stroke=\"black\" points=\"47,-326.887 42.5001,-316.887 47,-321.887 47.0001,-316.887 47.0001,-316.887 47.0001,-316.887 47,-321.887 51.5001,-316.887 47,-326.887 47,-326.887\"/>\n",
       "<text text-anchor=\"middle\" x=\"57.5\" y=\"-297.8\" font-family=\"Times,serif\" font-size=\"14.00\">128</text>\n",
       "</g>\n",
       "<!-- fc2 -->\n",
       "<g id=\"node5\" class=\"node\"><title>fc2</title>\n",
       "<polygon fill=\"#fb8072\" stroke=\"black\" points=\"94,-494 -7.10543e-15,-494 -7.10543e-15,-436 94,-436 94,-494\"/>\n",
       "<text text-anchor=\"middle\" x=\"47\" y=\"-468.8\" font-family=\"Times,serif\" font-size=\"14.00\">FullyConnected</text>\n",
       "<text text-anchor=\"middle\" x=\"47\" y=\"-453.8\" font-family=\"Times,serif\" font-size=\"14.00\">64</text>\n",
       "</g>\n",
       "<!-- fc2&#45;&gt;relu1 -->\n",
       "<g id=\"edge4\" class=\"edge\"><title>fc2&#45;&gt;relu1</title>\n",
       "<path fill=\"none\" stroke=\"black\" d=\"M47,-425.582C47,-412.284 47,-397.632 47,-385.297\"/>\n",
       "<polygon fill=\"black\" stroke=\"black\" points=\"47,-435.887 42.5001,-425.887 47,-430.887 47.0001,-425.887 47.0001,-425.887 47.0001,-425.887 47,-430.887 51.5001,-425.887 47,-435.887 47,-435.887\"/>\n",
       "<text text-anchor=\"middle\" x=\"57.5\" y=\"-406.8\" font-family=\"Times,serif\" font-size=\"14.00\">128</text>\n",
       "</g>\n",
       "<!-- relu2 -->\n",
       "<g id=\"node6\" class=\"node\"><title>relu2</title>\n",
       "<polygon fill=\"#ffffb3\" stroke=\"black\" points=\"94,-603 -7.10543e-15,-603 -7.10543e-15,-545 94,-545 94,-603\"/>\n",
       "<text text-anchor=\"middle\" x=\"47\" y=\"-577.8\" font-family=\"Times,serif\" font-size=\"14.00\">Activation</text>\n",
       "<text text-anchor=\"middle\" x=\"47\" y=\"-562.8\" font-family=\"Times,serif\" font-size=\"14.00\">relu</text>\n",
       "</g>\n",
       "<!-- relu2&#45;&gt;fc2 -->\n",
       "<g id=\"edge5\" class=\"edge\"><title>relu2&#45;&gt;fc2</title>\n",
       "<path fill=\"none\" stroke=\"black\" d=\"M47,-534.582C47,-521.284 47,-506.632 47,-494.297\"/>\n",
       "<polygon fill=\"black\" stroke=\"black\" points=\"47,-544.887 42.5001,-534.887 47,-539.887 47.0001,-534.887 47.0001,-534.887 47.0001,-534.887 47,-539.887 51.5001,-534.887 47,-544.887 47,-544.887\"/>\n",
       "<text text-anchor=\"middle\" x=\"54\" y=\"-515.8\" font-family=\"Times,serif\" font-size=\"14.00\">64</text>\n",
       "</g>\n",
       "<!-- fc3 -->\n",
       "<g id=\"node7\" class=\"node\"><title>fc3</title>\n",
       "<polygon fill=\"#fb8072\" stroke=\"black\" points=\"94,-712 -7.10543e-15,-712 -7.10543e-15,-654 94,-654 94,-712\"/>\n",
       "<text text-anchor=\"middle\" x=\"47\" y=\"-686.8\" font-family=\"Times,serif\" font-size=\"14.00\">FullyConnected</text>\n",
       "<text text-anchor=\"middle\" x=\"47\" y=\"-671.8\" font-family=\"Times,serif\" font-size=\"14.00\">10</text>\n",
       "</g>\n",
       "<!-- fc3&#45;&gt;relu2 -->\n",
       "<g id=\"edge6\" class=\"edge\"><title>fc3&#45;&gt;relu2</title>\n",
       "<path fill=\"none\" stroke=\"black\" d=\"M47,-643.582C47,-630.284 47,-615.632 47,-603.297\"/>\n",
       "<polygon fill=\"black\" stroke=\"black\" points=\"47,-653.887 42.5001,-643.887 47,-648.887 47.0001,-643.887 47.0001,-643.887 47.0001,-643.887 47,-648.887 51.5001,-643.887 47,-653.887 47,-653.887\"/>\n",
       "<text text-anchor=\"middle\" x=\"54\" y=\"-624.8\" font-family=\"Times,serif\" font-size=\"14.00\">64</text>\n",
       "</g>\n",
       "<!-- softmax_label -->\n",
       "<g id=\"node8\" class=\"node\"><title>softmax_label</title>\n",
       "<ellipse fill=\"#8dd3c7\" stroke=\"black\" cx=\"159\" cy=\"-683\" rx=\"47\" ry=\"29\"/>\n",
       "<text text-anchor=\"middle\" x=\"159\" y=\"-679.3\" font-family=\"Times,serif\" font-size=\"14.00\">softmax_label</text>\n",
       "</g>\n",
       "<!-- softmax -->\n",
       "<g id=\"node9\" class=\"node\"><title>softmax</title>\n",
       "<polygon fill=\"#fccde5\" stroke=\"black\" points=\"170,-821 76,-821 76,-763 170,-763 170,-821\"/>\n",
       "<text text-anchor=\"middle\" x=\"123\" y=\"-788.3\" font-family=\"Times,serif\" font-size=\"14.00\">softmax</text>\n",
       "</g>\n",
       "<!-- softmax&#45;&gt;fc3 -->\n",
       "<g id=\"edge7\" class=\"edge\"><title>softmax&#45;&gt;fc3</title>\n",
       "<path fill=\"none\" stroke=\"black\" d=\"M97.1082,-754.547C87.3017,-740.741 76.2938,-725.243 67.0986,-712.297\"/>\n",
       "<polygon fill=\"black\" stroke=\"black\" points=\"103.032,-762.887 93.5724,-757.34 100.137,-758.811 97.2411,-754.734 97.2411,-754.734 97.2411,-754.734 100.137,-758.811 100.91,-752.128 103.032,-762.887 103.032,-762.887\"/>\n",
       "<text text-anchor=\"middle\" x=\"97\" y=\"-733.8\" font-family=\"Times,serif\" font-size=\"14.00\">10</text>\n",
       "</g>\n",
       "<!-- softmax&#45;&gt;softmax_label -->\n",
       "<g id=\"edge8\" class=\"edge\"><title>softmax&#45;&gt;softmax_label</title>\n",
       "<path fill=\"none\" stroke=\"black\" d=\"M135.713,-753.215C140.333,-739.483 145.463,-724.236 149.729,-711.555\"/>\n",
       "<polygon fill=\"black\" stroke=\"black\" points=\"132.459,-762.887 131.382,-751.974 134.053,-758.148 135.647,-753.409 135.647,-753.409 135.647,-753.409 134.053,-758.148 139.913,-754.844 132.459,-762.887 132.459,-762.887\"/>\n",
       "</g>\n",
       "</g>\n",
       "</svg>\n"
      ],
      "text/plain": [
       "<graphviz.dot.Digraph at 0x7fefc1e24290>"
      ]
     },
     "execution_count": 36,
     "metadata": {},
     "output_type": "execute_result"
    }
   ],
   "source": [
    "# The first fully-connected layer\n",
    "fc1  = mx.sym.FullyConnected(data=data, name='fc1', num_hidden=128)\n",
    "# Apply relu to the output of the first fully-connnected layer\n",
    "act1 = mx.sym.Activation(data=fc1, name='relu1', act_type=\"relu\")\n",
    "\n",
    "# The second fully-connected layer and the according activation function\n",
    "fc2  = mx.sym.FullyConnected(data=act1, name='fc2', num_hidden = 64)\n",
    "act2 = mx.sym.Activation(data=fc2, name='relu2', act_type=\"relu\")\n",
    "\n",
    "# The thrid fully-connected layer, note that the hidden size should be 10, which is the number of unique digits\n",
    "fc3  = mx.sym.FullyConnected(data=act2, name='fc3', num_hidden=10)\n",
    "# The softmax and loss layer\n",
    "mlp  = mx.sym.SoftmaxOutput(data=fc3, name='softmax')\n",
    "\n",
    "# We visualize the network structure with output size (the batch_size is ignored.)\n",
    "shape = {\"data\" : (batch_size, 1, 28, 28)}\n",
    "mx.viz.plot_network(symbol=mlp, shape=shape)\n",
    "#https://mxnet.incubator.apache.org/faq/visualize_graph.html\n"
   ]
  },
  {
   "cell_type": "code",
   "execution_count": 37,
   "metadata": {},
   "outputs": [
    {
     "name": "stdout",
     "output_type": "stream",
     "text": [
      "fc1: <class 'mxnet.symbol.symbol.Symbol'>\n",
      "act1: <class 'mxnet.symbol.symbol.Symbol'>\n",
      "fc2: <class 'mxnet.symbol.symbol.Symbol'>\n",
      "act2: <class 'mxnet.symbol.symbol.Symbol'>\n",
      "fc3: <class 'mxnet.symbol.symbol.Symbol'>\n",
      "mlp: <class 'mxnet.symbol.symbol.Symbol'>\n"
     ]
    }
   ],
   "source": [
    "print \"fc1:\", type(fc1)\n",
    "print \"act1:\", type(act1)\n",
    "print \"fc2:\", type(fc2)\n",
    "print \"act2:\", type(act2)\n",
    "print \"fc3:\", type(fc3)\n",
    "print \"mlp:\", type(mlp)\n",
    "#https://mxnet.incubator.apache.org/api/python/symbol/symbol.html"
   ]
  },
  {
   "cell_type": "code",
   "execution_count": 38,
   "metadata": {},
   "outputs": [
    {
     "name": "stderr",
     "output_type": "stream",
     "text": [
      "/home/ec2-user/anaconda3/envs/mxnet_p27/lib/python2.7/site-packages/ipykernel/__main__.py:9: DeprecationWarning: \u001b[91mmxnet.model.FeedForward has been deprecated. Please use mxnet.mod.Module instead.\u001b[0m\n",
      "/home/ec2-user/anaconda3/envs/mxnet_p27/lib/python2.7/site-packages/mxnet/model.py:573: DeprecationWarning: \u001b[91mCalling initializer with init(str, NDArray) has been deprecated.please use init(mx.init.InitDesc(...), NDArray) instead.\u001b[0m\n",
      "  self.initializer(k, v)\n",
      "INFO:root:Start training with [cpu(0)]\n"
     ]
    },
    {
     "name": "stdout",
     "output_type": "stream",
     "text": [
      "mx.model.FeedForward : elapsed time : 0.00116419792175\n"
     ]
    },
    {
     "name": "stderr",
     "output_type": "stream",
     "text": [
      "INFO:root:Epoch[0] Batch [200]\tSpeed: 49247.85 samples/sec\taccuracy=0.111300\n",
      "INFO:root:Epoch[0] Batch [400]\tSpeed: 41009.90 samples/sec\taccuracy=0.113550\n",
      "INFO:root:Epoch[0] Batch [600]\tSpeed: 48657.20 samples/sec\taccuracy=0.245050\n",
      "INFO:root:Epoch[0] Resetting Data Iterator\n",
      "INFO:root:Epoch[0] Time cost=3.420\n",
      "INFO:root:Epoch[0] Validation-accuracy=0.501400\n",
      "INFO:root:Epoch[1] Batch [200]\tSpeed: 48529.91 samples/sec\taccuracy=0.618750\n",
      "INFO:root:Epoch[1] Batch [400]\tSpeed: 47630.29 samples/sec\taccuracy=0.797750\n",
      "INFO:root:Epoch[1] Batch [600]\tSpeed: 48472.28 samples/sec\taccuracy=0.848550\n",
      "INFO:root:Epoch[1] Resetting Data Iterator\n",
      "INFO:root:Epoch[1] Time cost=1.260\n",
      "INFO:root:Epoch[1] Validation-accuracy=0.873600\n",
      "INFO:root:Epoch[2] Batch [200]\tSpeed: 48585.31 samples/sec\taccuracy=0.875950\n",
      "INFO:root:Epoch[2] Batch [400]\tSpeed: 48573.77 samples/sec\taccuracy=0.900600\n",
      "INFO:root:Epoch[2] Batch [600]\tSpeed: 48054.16 samples/sec\taccuracy=0.912350\n",
      "INFO:root:Epoch[2] Resetting Data Iterator\n",
      "INFO:root:Epoch[2] Time cost=1.255\n",
      "INFO:root:Epoch[2] Validation-accuracy=0.920500\n",
      "INFO:root:Epoch[3] Batch [200]\tSpeed: 47645.82 samples/sec\taccuracy=0.918800\n",
      "INFO:root:Epoch[3] Batch [400]\tSpeed: 48213.58 samples/sec\taccuracy=0.932500\n",
      "INFO:root:Epoch[3] Batch [600]\tSpeed: 48617.44 samples/sec\taccuracy=0.938400\n",
      "INFO:root:Epoch[3] Resetting Data Iterator\n",
      "INFO:root:Epoch[3] Time cost=1.261\n",
      "INFO:root:Epoch[3] Validation-accuracy=0.943900\n",
      "INFO:root:Epoch[4] Batch [200]\tSpeed: 50152.83 samples/sec\taccuracy=0.941050\n",
      "INFO:root:Epoch[4] Batch [400]\tSpeed: 48189.87 samples/sec\taccuracy=0.946350\n",
      "INFO:root:Epoch[4] Batch [600]\tSpeed: 47998.23 samples/sec\taccuracy=0.952650\n",
      "INFO:root:Epoch[4] Resetting Data Iterator\n",
      "INFO:root:Epoch[4] Time cost=1.246\n",
      "INFO:root:Epoch[4] Validation-accuracy=0.955500\n",
      "INFO:root:Epoch[5] Batch [200]\tSpeed: 48659.43 samples/sec\taccuracy=0.952400\n",
      "INFO:root:Epoch[5] Batch [400]\tSpeed: 48372.75 samples/sec\taccuracy=0.956750\n",
      "INFO:root:Epoch[5] Batch [600]\tSpeed: 49167.00 samples/sec\taccuracy=0.961750\n",
      "INFO:root:Epoch[5] Resetting Data Iterator\n",
      "INFO:root:Epoch[5] Time cost=1.246\n",
      "INFO:root:Epoch[5] Validation-accuracy=0.960900\n",
      "INFO:root:Epoch[6] Batch [200]\tSpeed: 47286.67 samples/sec\taccuracy=0.960500\n",
      "INFO:root:Epoch[6] Batch [400]\tSpeed: 48280.15 samples/sec\taccuracy=0.965150\n",
      "INFO:root:Epoch[6] Batch [600]\tSpeed: 48103.15 samples/sec\taccuracy=0.968050\n",
      "INFO:root:Epoch[6] Resetting Data Iterator\n",
      "INFO:root:Epoch[6] Time cost=1.268\n",
      "INFO:root:Epoch[6] Validation-accuracy=0.964800\n",
      "INFO:root:Epoch[7] Batch [200]\tSpeed: 48226.47 samples/sec\taccuracy=0.966450\n",
      "INFO:root:Epoch[7] Batch [400]\tSpeed: 49990.75 samples/sec\taccuracy=0.970300\n",
      "INFO:root:Epoch[7] Batch [600]\tSpeed: 47484.29 samples/sec\taccuracy=0.973100\n",
      "INFO:root:Epoch[7] Resetting Data Iterator\n",
      "INFO:root:Epoch[7] Time cost=1.251\n",
      "INFO:root:Epoch[7] Validation-accuracy=0.967200\n",
      "INFO:root:Epoch[8] Batch [200]\tSpeed: 48539.09 samples/sec\taccuracy=0.971400\n",
      "INFO:root:Epoch[8] Batch [400]\tSpeed: 48355.54 samples/sec\taccuracy=0.974700\n",
      "INFO:root:Epoch[8] Batch [600]\tSpeed: 49724.03 samples/sec\taccuracy=0.977550\n",
      "INFO:root:Epoch[8] Resetting Data Iterator\n",
      "INFO:root:Epoch[8] Time cost=1.243\n",
      "INFO:root:Epoch[8] Validation-accuracy=0.969100\n",
      "INFO:root:Epoch[9] Batch [200]\tSpeed: 48349.24 samples/sec\taccuracy=0.975250\n",
      "INFO:root:Epoch[9] Batch [400]\tSpeed: 47010.15 samples/sec\taccuracy=0.978050\n",
      "INFO:root:Epoch[9] Batch [600]\tSpeed: 49955.29 samples/sec\taccuracy=0.980000\n",
      "INFO:root:Epoch[9] Resetting Data Iterator\n",
      "INFO:root:Epoch[9] Time cost=1.256\n",
      "INFO:root:Epoch[9] Validation-accuracy=0.970400\n"
     ]
    },
    {
     "name": "stdout",
     "output_type": "stream",
     "text": [
      "model.fit : elapsed time : 16.5171089172\n"
     ]
    }
   ],
   "source": [
    "# @@@ AUTOTEST_OUTPUT_IGNORED_CELL\n",
    "import logging\n",
    "logging.getLogger().setLevel(logging.DEBUG)\n",
    "\n",
    "start_time = timeit.default_timer()\n",
    "model = mx.model.FeedForward(\n",
    "    symbol = mlp,       # network structure\n",
    "    num_epoch = 10,     # number of data passes for training \n",
    "    learning_rate = 0.1 # learning rate of SGD \n",
    ")\n",
    "print \"mx.model.FeedForward : elapsed time :\", timeit.default_timer() - start_time\n",
    "\n",
    "start_time = timeit.default_timer()\n",
    "model.fit(\n",
    "    X=train_iter,       # training data\n",
    "    eval_data=val_iter, # validation data\n",
    "    batch_end_callback = mx.callback.Speedometer(batch_size, 200) # output progress for each 200 data batches\n",
    ")\n",
    "print \"model.fit : elapsed time :\", timeit.default_timer() - start_time"
   ]
  },
  {
   "cell_type": "code",
   "execution_count": 39,
   "metadata": {},
   "outputs": [],
   "source": [
    "#NB: git repo shows Validation-accuracy=0.968200\n",
    "#my first attempt returns Validation-accuracy=0.970400"
   ]
  },
  {
   "cell_type": "code",
   "execution_count": 46,
   "metadata": {},
   "outputs": [
    {
     "data": {
      "image/png": "[encoded data removed]",
      "text/plain": [
       "<matplotlib.figure.Figure at 0x7fefc1e20110>"
      ]
     },
     "metadata": {},
     "output_type": "display_data"
    }
   ],
   "source": [
    "# @@@ AUTOTEST_OUTPUT_IGNORED_CELL\n",
    "#plt.imshow(val_img[0], cmap='Greys_r')\n",
    "plt.imshow(val_img[0], cmap='Greys')\n",
    "plt.axis('off')\n",
    "plt.show()"
   ]
  },
  {
   "cell_type": "code",
   "execution_count": 47,
   "metadata": {},
   "outputs": [
    {
     "name": "stdout",
     "output_type": "stream",
     "text": [
      "prob: <type 'numpy.ndarray'> (10,)\n",
      "[  7.39555395e-09   8.31057787e-06   8.11799764e-05   4.55100817e-04\n",
      "   1.47988399e-09   4.32557012e-09   1.04167770e-12   9.99346435e-01\n",
      "   3.95903226e-06   1.05051498e-04]\n",
      "Classified as 7 with probability 0.999346\n"
     ]
    }
   ],
   "source": [
    "\n",
    "prob = model.predict(val_img[0:1].astype(np.float32)/255)[0]\n",
    "print \"prob:\", type(prob), prob.shape\n",
    "print prob\n",
    "#NB: returns a probability for each category. \n",
    "\n",
    "assert max(prob) > 0.99, \"Low prediction accuracy.\"\n",
    "#https://wiki.python.org/moin/UsingAssertionsEffectively\n",
    "#test if the highest accuracy is greater than x.xx, if not return string.\n",
    "\n",
    "#identify the highest probability and present to user.\n",
    "print 'Classified as %d with probability %f' % (prob.argmax(), max(prob))"
   ]
  },
  {
   "cell_type": "code",
   "execution_count": 49,
   "metadata": {},
   "outputs": [
    {
     "name": "stdout",
     "output_type": "stream",
     "text": [
      "model: <class 'mxnet.model.FeedForward'>\n"
     ]
    }
   ],
   "source": [
    "print \"model:\", type(model)\n",
    "#https://mxnet.incubator.apache.org/api/python/model.html"
   ]
  },
  {
   "cell_type": "code",
   "execution_count": 48,
   "metadata": {},
   "outputs": [
    {
     "name": "stdout",
     "output_type": "stream",
     "text": [
      "Validation accuracy: 97.040000%\n"
     ]
    }
   ],
   "source": [
    "# @@@ AUTOTEST_OUTPUT_IGNORED_CELL\n",
    "valid_acc = model.score(val_iter)\n",
    "#score(X, eval_metric='acc', num_batch=None, batch_end_callback=None, reset=True)[source]\n",
    "#recall val_iter is class 'mxnet.io.NDArrayIter'\n",
    "#iterate through all the values, test accuracy of prediction.\n",
    "\n",
    "print 'Validation accuracy: %f%%' % (valid_acc *100,)\n",
    "assert valid_acc > 0.95, \"Low validation accuracy.\"\n",
    "#todo: identify wrong predictions. plot to see how bad the images are.\n",
    "#todo: identify most frequent wrong prediction pairs. ie: are 1's predicted as 7 and vice versa.\n",
    "#NBB: the 97% accuracy result is not great. have obtained better results with data augmentation and multi layers."
   ]
  },
  {
   "cell_type": "code",
   "execution_count": null,
   "metadata": {},
   "outputs": [],
   "source": [
    "#now create and run a CNN model."
   ]
  },
  {
   "cell_type": "code",
   "execution_count": 51,
   "metadata": {},
   "outputs": [
    {
     "data": {
      "image/svg+xml": [
       "<?xml version=\"1.0\" encoding=\"UTF-8\" standalone=\"no\"?>\n",
       "<!DOCTYPE svg PUBLIC \"-//W3C//DTD SVG 1.1//EN\"\n",
       " \"http://www.w3.org/Graphics/SVG/1.1/DTD/svg11.dtd\">\n",
       "<!-- Generated by graphviz version 2.38.0 (20140413.2041)\n",
       " -->\n",
       "<!-- Title: plot Pages: 1 -->\n",
       "<svg width=\"214pt\" height=\"1265pt\"\n",
       " viewBox=\"0.00 0.00 214.00 1265.00\" xmlns=\"http://www.w3.org/2000/svg\" xmlns:xlink=\"http://www.w3.org/1999/xlink\">\n",
       "<g id=\"graph0\" class=\"graph\" transform=\"scale(1 1) rotate(0) translate(4 1261)\">\n",
       "<title>plot</title>\n",
       "<polygon fill=\"white\" stroke=\"none\" points=\"-4,4 -4,-1261 210,-1261 210,4 -4,4\"/>\n",
       "<!-- data -->\n",
       "<g id=\"node1\" class=\"node\"><title>data</title>\n",
       "<ellipse fill=\"#8dd3c7\" stroke=\"black\" cx=\"47\" cy=\"-29\" rx=\"47\" ry=\"29\"/>\n",
       "<text text-anchor=\"middle\" x=\"47\" y=\"-25.3\" font-family=\"Times,serif\" font-size=\"14.00\">data</text>\n",
       "</g>\n",
       "<!-- convolution0 -->\n",
       "<g id=\"node2\" class=\"node\"><title>convolution0</title>\n",
       "<polygon fill=\"#fb8072\" stroke=\"black\" points=\"94,-167 -7.10543e-15,-167 -7.10543e-15,-109 94,-109 94,-167\"/>\n",
       "<text text-anchor=\"middle\" x=\"47\" y=\"-141.8\" font-family=\"Times,serif\" font-size=\"14.00\">Convolution</text>\n",
       "<text text-anchor=\"middle\" x=\"47\" y=\"-126.8\" font-family=\"Times,serif\" font-size=\"14.00\">5x5/1, 20</text>\n",
       "</g>\n",
       "<!-- convolution0&#45;&gt;data -->\n",
       "<g id=\"edge1\" class=\"edge\"><title>convolution0&#45;&gt;data</title>\n",
       "<path fill=\"none\" stroke=\"black\" d=\"M47,-98.5824C47,-85.2841 47,-70.632 47,-58.2967\"/>\n",
       "<polygon fill=\"black\" stroke=\"black\" points=\"47,-108.887 42.5001,-98.887 47,-103.887 47.0001,-98.887 47.0001,-98.887 47.0001,-98.887 47,-103.887 51.5001,-98.8871 47,-108.887 47,-108.887\"/>\n",
       "<text text-anchor=\"middle\" x=\"71\" y=\"-79.8\" font-family=\"Times,serif\" font-size=\"14.00\">1x28x28</text>\n",
       "</g>\n",
       "<!-- activation0 -->\n",
       "<g id=\"node3\" class=\"node\"><title>activation0</title>\n",
       "<polygon fill=\"#ffffb3\" stroke=\"black\" points=\"94,-276 -7.10543e-15,-276 -7.10543e-15,-218 94,-218 94,-276\"/>\n",
       "<text text-anchor=\"middle\" x=\"47\" y=\"-250.8\" font-family=\"Times,serif\" font-size=\"14.00\">Activation</text>\n",
       "<text text-anchor=\"middle\" x=\"47\" y=\"-235.8\" font-family=\"Times,serif\" font-size=\"14.00\">tanh</text>\n",
       "</g>\n",
       "<!-- activation0&#45;&gt;convolution0 -->\n",
       "<g id=\"edge2\" class=\"edge\"><title>activation0&#45;&gt;convolution0</title>\n",
       "<path fill=\"none\" stroke=\"black\" d=\"M47,-207.582C47,-194.284 47,-179.632 47,-167.297\"/>\n",
       "<polygon fill=\"black\" stroke=\"black\" points=\"47,-217.887 42.5001,-207.887 47,-212.887 47.0001,-207.887 47.0001,-207.887 47.0001,-207.887 47,-212.887 51.5001,-207.887 47,-217.887 47,-217.887\"/>\n",
       "<text text-anchor=\"middle\" x=\"74.5\" y=\"-188.8\" font-family=\"Times,serif\" font-size=\"14.00\">20x24x24</text>\n",
       "</g>\n",
       "<!-- pooling0 -->\n",
       "<g id=\"node4\" class=\"node\"><title>pooling0</title>\n",
       "<polygon fill=\"#80b1d3\" stroke=\"black\" points=\"94,-385 -7.10543e-15,-385 -7.10543e-15,-327 94,-327 94,-385\"/>\n",
       "<text text-anchor=\"middle\" x=\"47\" y=\"-359.8\" font-family=\"Times,serif\" font-size=\"14.00\">Pooling</text>\n",
       "<text text-anchor=\"middle\" x=\"47\" y=\"-344.8\" font-family=\"Times,serif\" font-size=\"14.00\">max, 2x2/2x2</text>\n",
       "</g>\n",
       "<!-- pooling0&#45;&gt;activation0 -->\n",
       "<g id=\"edge3\" class=\"edge\"><title>pooling0&#45;&gt;activation0</title>\n",
       "<path fill=\"none\" stroke=\"black\" d=\"M47,-316.582C47,-303.284 47,-288.632 47,-276.297\"/>\n",
       "<polygon fill=\"black\" stroke=\"black\" points=\"47,-326.887 42.5001,-316.887 47,-321.887 47.0001,-316.887 47.0001,-316.887 47.0001,-316.887 47,-321.887 51.5001,-316.887 47,-326.887 47,-326.887\"/>\n",
       "<text text-anchor=\"middle\" x=\"74.5\" y=\"-297.8\" font-family=\"Times,serif\" font-size=\"14.00\">20x24x24</text>\n",
       "</g>\n",
       "<!-- convolution1 -->\n",
       "<g id=\"node5\" class=\"node\"><title>convolution1</title>\n",
       "<polygon fill=\"#fb8072\" stroke=\"black\" points=\"94,-494 -7.10543e-15,-494 -7.10543e-15,-436 94,-436 94,-494\"/>\n",
       "<text text-anchor=\"middle\" x=\"47\" y=\"-468.8\" font-family=\"Times,serif\" font-size=\"14.00\">Convolution</text>\n",
       "<text text-anchor=\"middle\" x=\"47\" y=\"-453.8\" font-family=\"Times,serif\" font-size=\"14.00\">5x5/1, 50</text>\n",
       "</g>\n",
       "<!-- convolution1&#45;&gt;pooling0 -->\n",
       "<g id=\"edge4\" class=\"edge\"><title>convolution1&#45;&gt;pooling0</title>\n",
       "<path fill=\"none\" stroke=\"black\" d=\"M47,-425.582C47,-412.284 47,-397.632 47,-385.297\"/>\n",
       "<polygon fill=\"black\" stroke=\"black\" points=\"47,-435.887 42.5001,-425.887 47,-430.887 47.0001,-425.887 47.0001,-425.887 47.0001,-425.887 47,-430.887 51.5001,-425.887 47,-435.887 47,-435.887\"/>\n",
       "<text text-anchor=\"middle\" x=\"74.5\" y=\"-406.8\" font-family=\"Times,serif\" font-size=\"14.00\">20x12x12</text>\n",
       "</g>\n",
       "<!-- activation1 -->\n",
       "<g id=\"node6\" class=\"node\"><title>activation1</title>\n",
       "<polygon fill=\"#ffffb3\" stroke=\"black\" points=\"94,-603 -7.10543e-15,-603 -7.10543e-15,-545 94,-545 94,-603\"/>\n",
       "<text text-anchor=\"middle\" x=\"47\" y=\"-577.8\" font-family=\"Times,serif\" font-size=\"14.00\">Activation</text>\n",
       "<text text-anchor=\"middle\" x=\"47\" y=\"-562.8\" font-family=\"Times,serif\" font-size=\"14.00\">tanh</text>\n",
       "</g>\n",
       "<!-- activation1&#45;&gt;convolution1 -->\n",
       "<g id=\"edge5\" class=\"edge\"><title>activation1&#45;&gt;convolution1</title>\n",
       "<path fill=\"none\" stroke=\"black\" d=\"M47,-534.582C47,-521.284 47,-506.632 47,-494.297\"/>\n",
       "<polygon fill=\"black\" stroke=\"black\" points=\"47,-544.887 42.5001,-534.887 47,-539.887 47.0001,-534.887 47.0001,-534.887 47.0001,-534.887 47,-539.887 51.5001,-534.887 47,-544.887 47,-544.887\"/>\n",
       "<text text-anchor=\"middle\" x=\"67.5\" y=\"-515.8\" font-family=\"Times,serif\" font-size=\"14.00\">50x8x8</text>\n",
       "</g>\n",
       "<!-- pooling1 -->\n",
       "<g id=\"node7\" class=\"node\"><title>pooling1</title>\n",
       "<polygon fill=\"#80b1d3\" stroke=\"black\" points=\"94,-712 -7.10543e-15,-712 -7.10543e-15,-654 94,-654 94,-712\"/>\n",
       "<text text-anchor=\"middle\" x=\"47\" y=\"-686.8\" font-family=\"Times,serif\" font-size=\"14.00\">Pooling</text>\n",
       "<text text-anchor=\"middle\" x=\"47\" y=\"-671.8\" font-family=\"Times,serif\" font-size=\"14.00\">max, 2x2/2x2</text>\n",
       "</g>\n",
       "<!-- pooling1&#45;&gt;activation1 -->\n",
       "<g id=\"edge6\" class=\"edge\"><title>pooling1&#45;&gt;activation1</title>\n",
       "<path fill=\"none\" stroke=\"black\" d=\"M47,-643.582C47,-630.284 47,-615.632 47,-603.297\"/>\n",
       "<polygon fill=\"black\" stroke=\"black\" points=\"47,-653.887 42.5001,-643.887 47,-648.887 47.0001,-643.887 47.0001,-643.887 47.0001,-643.887 47,-648.887 51.5001,-643.887 47,-653.887 47,-653.887\"/>\n",
       "<text text-anchor=\"middle\" x=\"67.5\" y=\"-624.8\" font-family=\"Times,serif\" font-size=\"14.00\">50x8x8</text>\n",
       "</g>\n",
       "<!-- flatten1 -->\n",
       "<g id=\"node8\" class=\"node\"><title>flatten1</title>\n",
       "<polygon fill=\"#fdb462\" stroke=\"black\" points=\"94,-821 -7.10543e-15,-821 -7.10543e-15,-763 94,-763 94,-821\"/>\n",
       "<text text-anchor=\"middle\" x=\"47\" y=\"-788.3\" font-family=\"Times,serif\" font-size=\"14.00\">flatten1</text>\n",
       "</g>\n",
       "<!-- flatten1&#45;&gt;pooling1 -->\n",
       "<g id=\"edge7\" class=\"edge\"><title>flatten1&#45;&gt;pooling1</title>\n",
       "<path fill=\"none\" stroke=\"black\" d=\"M47,-752.582C47,-739.284 47,-724.632 47,-712.297\"/>\n",
       "<polygon fill=\"black\" stroke=\"black\" points=\"47,-762.887 42.5001,-752.887 47,-757.887 47.0001,-752.887 47.0001,-752.887 47.0001,-752.887 47,-757.887 51.5001,-752.887 47,-762.887 47,-762.887\"/>\n",
       "<text text-anchor=\"middle\" x=\"67.5\" y=\"-733.8\" font-family=\"Times,serif\" font-size=\"14.00\">50x4x4</text>\n",
       "</g>\n",
       "<!-- fullyconnected0 -->\n",
       "<g id=\"node9\" class=\"node\"><title>fullyconnected0</title>\n",
       "<polygon fill=\"#fb8072\" stroke=\"black\" points=\"94,-930 -7.10543e-15,-930 -7.10543e-15,-872 94,-872 94,-930\"/>\n",
       "<text text-anchor=\"middle\" x=\"47\" y=\"-904.8\" font-family=\"Times,serif\" font-size=\"14.00\">FullyConnected</text>\n",
       "<text text-anchor=\"middle\" x=\"47\" y=\"-889.8\" font-family=\"Times,serif\" font-size=\"14.00\">500</text>\n",
       "</g>\n",
       "<!-- fullyconnected0&#45;&gt;flatten1 -->\n",
       "<g id=\"edge8\" class=\"edge\"><title>fullyconnected0&#45;&gt;flatten1</title>\n",
       "<path fill=\"none\" stroke=\"black\" d=\"M47,-861.582C47,-848.284 47,-833.632 47,-821.297\"/>\n",
       "<polygon fill=\"black\" stroke=\"black\" points=\"47,-871.887 42.5001,-861.887 47,-866.887 47.0001,-861.887 47.0001,-861.887 47.0001,-861.887 47,-866.887 51.5001,-861.887 47,-871.887 47,-871.887\"/>\n",
       "<text text-anchor=\"middle\" x=\"57.5\" y=\"-842.8\" font-family=\"Times,serif\" font-size=\"14.00\">800</text>\n",
       "</g>\n",
       "<!-- activation2 -->\n",
       "<g id=\"node10\" class=\"node\"><title>activation2</title>\n",
       "<polygon fill=\"#ffffb3\" stroke=\"black\" points=\"94,-1039 -7.10543e-15,-1039 -7.10543e-15,-981 94,-981 94,-1039\"/>\n",
       "<text text-anchor=\"middle\" x=\"47\" y=\"-1013.8\" font-family=\"Times,serif\" font-size=\"14.00\">Activation</text>\n",
       "<text text-anchor=\"middle\" x=\"47\" y=\"-998.8\" font-family=\"Times,serif\" font-size=\"14.00\">tanh</text>\n",
       "</g>\n",
       "<!-- activation2&#45;&gt;fullyconnected0 -->\n",
       "<g id=\"edge9\" class=\"edge\"><title>activation2&#45;&gt;fullyconnected0</title>\n",
       "<path fill=\"none\" stroke=\"black\" d=\"M47,-970.582C47,-957.284 47,-942.632 47,-930.297\"/>\n",
       "<polygon fill=\"black\" stroke=\"black\" points=\"47,-980.887 42.5001,-970.887 47,-975.887 47.0001,-970.887 47.0001,-970.887 47.0001,-970.887 47,-975.887 51.5001,-970.887 47,-980.887 47,-980.887\"/>\n",
       "<text text-anchor=\"middle\" x=\"57.5\" y=\"-951.8\" font-family=\"Times,serif\" font-size=\"14.00\">500</text>\n",
       "</g>\n",
       "<!-- fullyconnected1 -->\n",
       "<g id=\"node11\" class=\"node\"><title>fullyconnected1</title>\n",
       "<polygon fill=\"#fb8072\" stroke=\"black\" points=\"94,-1148 -7.10543e-15,-1148 -7.10543e-15,-1090 94,-1090 94,-1148\"/>\n",
       "<text text-anchor=\"middle\" x=\"47\" y=\"-1122.8\" font-family=\"Times,serif\" font-size=\"14.00\">FullyConnected</text>\n",
       "<text text-anchor=\"middle\" x=\"47\" y=\"-1107.8\" font-family=\"Times,serif\" font-size=\"14.00\">10</text>\n",
       "</g>\n",
       "<!-- fullyconnected1&#45;&gt;activation2 -->\n",
       "<g id=\"edge10\" class=\"edge\"><title>fullyconnected1&#45;&gt;activation2</title>\n",
       "<path fill=\"none\" stroke=\"black\" d=\"M47,-1079.58C47,-1066.28 47,-1051.63 47,-1039.3\"/>\n",
       "<polygon fill=\"black\" stroke=\"black\" points=\"47,-1089.89 42.5001,-1079.89 47,-1084.89 47.0001,-1079.89 47.0001,-1079.89 47.0001,-1079.89 47,-1084.89 51.5001,-1079.89 47,-1089.89 47,-1089.89\"/>\n",
       "<text text-anchor=\"middle\" x=\"57.5\" y=\"-1060.8\" font-family=\"Times,serif\" font-size=\"14.00\">500</text>\n",
       "</g>\n",
       "<!-- softmax_label -->\n",
       "<g id=\"node12\" class=\"node\"><title>softmax_label</title>\n",
       "<ellipse fill=\"#8dd3c7\" stroke=\"black\" cx=\"159\" cy=\"-1119\" rx=\"47\" ry=\"29\"/>\n",
       "<text text-anchor=\"middle\" x=\"159\" y=\"-1115.3\" font-family=\"Times,serif\" font-size=\"14.00\">softmax_label</text>\n",
       "</g>\n",
       "<!-- softmax -->\n",
       "<g id=\"node13\" class=\"node\"><title>softmax</title>\n",
       "<polygon fill=\"#fccde5\" stroke=\"black\" points=\"170,-1257 76,-1257 76,-1199 170,-1199 170,-1257\"/>\n",
       "<text text-anchor=\"middle\" x=\"123\" y=\"-1224.3\" font-family=\"Times,serif\" font-size=\"14.00\">softmax</text>\n",
       "</g>\n",
       "<!-- softmax&#45;&gt;fullyconnected1 -->\n",
       "<g id=\"edge11\" class=\"edge\"><title>softmax&#45;&gt;fullyconnected1</title>\n",
       "<path fill=\"none\" stroke=\"black\" d=\"M97.1082,-1190.55C87.3017,-1176.74 76.2938,-1161.24 67.0986,-1148.3\"/>\n",
       "<polygon fill=\"black\" stroke=\"black\" points=\"103.032,-1198.89 93.5724,-1193.34 100.137,-1194.81 97.2411,-1190.73 97.2411,-1190.73 97.2411,-1190.73 100.137,-1194.81 100.91,-1188.13 103.032,-1198.89 103.032,-1198.89\"/>\n",
       "<text text-anchor=\"middle\" x=\"97\" y=\"-1169.8\" font-family=\"Times,serif\" font-size=\"14.00\">10</text>\n",
       "</g>\n",
       "<!-- softmax&#45;&gt;softmax_label -->\n",
       "<g id=\"edge12\" class=\"edge\"><title>softmax&#45;&gt;softmax_label</title>\n",
       "<path fill=\"none\" stroke=\"black\" d=\"M135.713,-1189.21C140.333,-1175.48 145.463,-1160.24 149.729,-1147.56\"/>\n",
       "<polygon fill=\"black\" stroke=\"black\" points=\"132.459,-1198.89 131.382,-1187.97 134.053,-1194.15 135.647,-1189.41 135.647,-1189.41 135.647,-1189.41 134.053,-1194.15 139.913,-1190.84 132.459,-1198.89 132.459,-1198.89\"/>\n",
       "</g>\n",
       "</g>\n",
       "</svg>\n"
      ],
      "text/plain": [
       "<graphviz.dot.Digraph at 0x7fefbfd6f750>"
      ]
     },
     "execution_count": 51,
     "metadata": {},
     "output_type": "execute_result"
    }
   ],
   "source": [
    "data = mx.symbol.Variable('data')\n",
    "# first conv layer\n",
    "conv1 = mx.sym.Convolution(data=data, kernel=(5,5), num_filter=20)\n",
    "tanh1 = mx.sym.Activation(data=conv1, act_type=\"tanh\")\n",
    "pool1 = mx.sym.Pooling(data=tanh1, pool_type=\"max\", kernel=(2,2), stride=(2,2))\n",
    "# second conv layer\n",
    "conv2 = mx.sym.Convolution(data=pool1, kernel=(5,5), num_filter=50)\n",
    "tanh2 = mx.sym.Activation(data=conv2, act_type=\"tanh\")\n",
    "pool2 = mx.sym.Pooling(data=tanh2, pool_type=\"max\", kernel=(2,2), stride=(2,2))\n",
    "# first fullc layer\n",
    "flatten = mx.sym.Flatten(data=pool2)\n",
    "fc1 = mx.symbol.FullyConnected(data=flatten, num_hidden=500)\n",
    "tanh3 = mx.sym.Activation(data=fc1, act_type=\"tanh\")\n",
    "# second fullc\n",
    "fc2 = mx.sym.FullyConnected(data=tanh3, num_hidden=10)\n",
    "# softmax loss\n",
    "lenet = mx.sym.SoftmaxOutput(data=fc2, name='softmax')\n",
    "mx.viz.plot_network(symbol=lenet, shape=shape)"
   ]
  },
  {
   "cell_type": "code",
   "execution_count": 54,
   "metadata": {},
   "outputs": [
    {
     "name": "stderr",
     "output_type": "stream",
     "text": [
      "/home/ec2-user/anaconda3/envs/mxnet_p27/lib/python2.7/site-packages/ipykernel/__main__.py:7: DeprecationWarning: \u001b[91mmxnet.model.FeedForward has been deprecated. Please use mxnet.mod.Module instead.\u001b[0m\n",
      "INFO:root:Start training with [gpu(0)]\n"
     ]
    },
    {
     "name": "stdout",
     "output_type": "stream",
     "text": [
      "mx.model.FeedForward : elapsed time : 0.00109791755676\n"
     ]
    },
    {
     "name": "stderr",
     "output_type": "stream",
     "text": [
      "INFO:root:Epoch[0] Batch [200]\tSpeed: 23125.29 samples/sec\taccuracy=0.111350\n",
      "INFO:root:Epoch[0] Batch [400]\tSpeed: 27672.62 samples/sec\taccuracy=0.113550\n",
      "INFO:root:Epoch[0] Batch [600]\tSpeed: 27686.26 samples/sec\taccuracy=0.110850\n",
      "INFO:root:Epoch[0] Resetting Data Iterator\n",
      "INFO:root:Epoch[0] Time cost=2.322\n",
      "INFO:root:Epoch[0] Validation-accuracy=0.113500\n",
      "INFO:root:Epoch[1] Batch [200]\tSpeed: 27772.56 samples/sec\taccuracy=0.198400\n",
      "INFO:root:Epoch[1] Batch [400]\tSpeed: 27724.94 samples/sec\taccuracy=0.838100\n",
      "INFO:root:Epoch[1] Batch [600]\tSpeed: 27682.00 samples/sec\taccuracy=0.926250\n",
      "INFO:root:Epoch[1] Resetting Data Iterator\n",
      "INFO:root:Epoch[1] Time cost=2.173\n",
      "INFO:root:Epoch[1] Validation-accuracy=0.940400\n",
      "INFO:root:Epoch[2] Batch [200]\tSpeed: 27816.61 samples/sec\taccuracy=0.945550\n",
      "INFO:root:Epoch[2] Batch [400]\tSpeed: 27736.05 samples/sec\taccuracy=0.960750\n",
      "INFO:root:Epoch[2] Batch [600]\tSpeed: 27759.15 samples/sec\taccuracy=0.967900\n",
      "INFO:root:Epoch[2] Resetting Data Iterator\n",
      "INFO:root:Epoch[2] Time cost=2.170\n",
      "INFO:root:Epoch[2] Validation-accuracy=0.973200\n",
      "INFO:root:Epoch[3] Batch [200]\tSpeed: 27789.93 samples/sec\taccuracy=0.970150\n",
      "INFO:root:Epoch[3] Batch [400]\tSpeed: 27692.31 samples/sec\taccuracy=0.974800\n",
      "INFO:root:Epoch[3] Batch [600]\tSpeed: 27694.81 samples/sec\taccuracy=0.978600\n",
      "INFO:root:Epoch[3] Resetting Data Iterator\n",
      "INFO:root:Epoch[3] Time cost=2.173\n",
      "INFO:root:Epoch[3] Validation-accuracy=0.981800\n",
      "INFO:root:Epoch[4] Batch [200]\tSpeed: 27758.19 samples/sec\taccuracy=0.977250\n",
      "INFO:root:Epoch[4] Batch [400]\tSpeed: 27693.81 samples/sec\taccuracy=0.980850\n",
      "INFO:root:Epoch[4] Batch [600]\tSpeed: 27709.32 samples/sec\taccuracy=0.983150\n",
      "INFO:root:Epoch[4] Resetting Data Iterator\n",
      "INFO:root:Epoch[4] Time cost=2.173\n",
      "INFO:root:Epoch[4] Validation-accuracy=0.984800\n",
      "INFO:root:Epoch[5] Batch [200]\tSpeed: 27758.38 samples/sec\taccuracy=0.981200\n",
      "INFO:root:Epoch[5] Batch [400]\tSpeed: 27722.61 samples/sec\taccuracy=0.984450\n",
      "INFO:root:Epoch[5] Batch [600]\tSpeed: 27749.65 samples/sec\taccuracy=0.986900\n",
      "INFO:root:Epoch[5] Resetting Data Iterator\n",
      "INFO:root:Epoch[5] Time cost=2.173\n",
      "INFO:root:Epoch[5] Validation-accuracy=0.986700\n",
      "INFO:root:Epoch[6] Batch [200]\tSpeed: 27755.73 samples/sec\taccuracy=0.985050\n",
      "INFO:root:Epoch[6] Batch [400]\tSpeed: 27704.78 samples/sec\taccuracy=0.986400\n",
      "INFO:root:Epoch[6] Batch [600]\tSpeed: 27667.34 samples/sec\taccuracy=0.989350\n",
      "INFO:root:Epoch[6] Resetting Data Iterator\n",
      "INFO:root:Epoch[6] Time cost=2.173\n",
      "INFO:root:Epoch[6] Validation-accuracy=0.987400\n",
      "INFO:root:Epoch[7] Batch [200]\tSpeed: 27786.54 samples/sec\taccuracy=0.987200\n",
      "INFO:root:Epoch[7] Batch [400]\tSpeed: 27711.39 samples/sec\taccuracy=0.988600\n",
      "INFO:root:Epoch[7] Batch [600]\tSpeed: 27659.41 samples/sec\taccuracy=0.991050\n",
      "INFO:root:Epoch[7] Resetting Data Iterator\n",
      "INFO:root:Epoch[7] Time cost=2.173\n",
      "INFO:root:Epoch[7] Validation-accuracy=0.988700\n",
      "INFO:root:Epoch[8] Batch [200]\tSpeed: 27784.35 samples/sec\taccuracy=0.989600\n",
      "INFO:root:Epoch[8] Batch [400]\tSpeed: 27694.35 samples/sec\taccuracy=0.989950\n",
      "INFO:root:Epoch[8] Batch [600]\tSpeed: 27742.48 samples/sec\taccuracy=0.992300\n",
      "INFO:root:Epoch[8] Resetting Data Iterator\n",
      "INFO:root:Epoch[8] Time cost=2.172\n",
      "INFO:root:Epoch[8] Validation-accuracy=0.988900\n",
      "INFO:root:Epoch[9] Batch [200]\tSpeed: 27782.61 samples/sec\taccuracy=0.991300\n",
      "INFO:root:Epoch[9] Batch [400]\tSpeed: 27701.37 samples/sec\taccuracy=0.991150\n",
      "INFO:root:Epoch[9] Batch [600]\tSpeed: 27707.43 samples/sec\taccuracy=0.993350\n",
      "INFO:root:Epoch[9] Resetting Data Iterator\n",
      "INFO:root:Epoch[9] Time cost=2.172\n",
      "INFO:root:Epoch[9] Validation-accuracy=0.988800\n",
      "INFO:root:Epoch[10] Batch [200]\tSpeed: 27779.20 samples/sec\taccuracy=0.992450\n",
      "INFO:root:Epoch[10] Batch [400]\tSpeed: 27686.79 samples/sec\taccuracy=0.992450\n",
      "INFO:root:Epoch[10] Batch [600]\tSpeed: 27653.26 samples/sec\taccuracy=0.994300\n",
      "INFO:root:Epoch[10] Resetting Data Iterator\n",
      "INFO:root:Epoch[10] Time cost=2.174\n",
      "INFO:root:Epoch[10] Validation-accuracy=0.989100\n",
      "INFO:root:Epoch[11] Batch [200]\tSpeed: 27793.96 samples/sec\taccuracy=0.993650\n",
      "INFO:root:Epoch[11] Batch [400]\tSpeed: 27680.74 samples/sec\taccuracy=0.993250\n",
      "INFO:root:Epoch[11] Batch [600]\tSpeed: 27663.74 samples/sec\taccuracy=0.994650\n",
      "INFO:root:Epoch[11] Resetting Data Iterator\n",
      "INFO:root:Epoch[11] Time cost=2.173\n",
      "INFO:root:Epoch[11] Validation-accuracy=0.989100\n",
      "INFO:root:Epoch[12] Batch [200]\tSpeed: 27782.10 samples/sec\taccuracy=0.994450\n",
      "INFO:root:Epoch[12] Batch [400]\tSpeed: 27681.20 samples/sec\taccuracy=0.994150\n",
      "INFO:root:Epoch[12] Batch [600]\tSpeed: 27707.43 samples/sec\taccuracy=0.995100\n",
      "INFO:root:Epoch[12] Resetting Data Iterator\n",
      "INFO:root:Epoch[12] Time cost=2.173\n",
      "INFO:root:Epoch[12] Validation-accuracy=0.989100\n",
      "INFO:root:Epoch[13] Batch [200]\tSpeed: 27756.77 samples/sec\taccuracy=0.995250\n",
      "INFO:root:Epoch[13] Batch [400]\tSpeed: 27716.69 samples/sec\taccuracy=0.994750\n",
      "INFO:root:Epoch[13] Batch [600]\tSpeed: 27693.08 samples/sec\taccuracy=0.995900\n",
      "INFO:root:Epoch[13] Resetting Data Iterator\n",
      "INFO:root:Epoch[13] Time cost=2.174\n",
      "INFO:root:Epoch[13] Validation-accuracy=0.989100\n",
      "INFO:root:Epoch[14] Batch [200]\tSpeed: 27824.11 samples/sec\taccuracy=0.995800\n",
      "INFO:root:Epoch[14] Batch [400]\tSpeed: 27694.50 samples/sec\taccuracy=0.995900\n",
      "INFO:root:Epoch[14] Batch [600]\tSpeed: 27673.27 samples/sec\taccuracy=0.996550\n",
      "INFO:root:Epoch[14] Resetting Data Iterator\n",
      "INFO:root:Epoch[14] Time cost=2.173\n",
      "INFO:root:Epoch[14] Validation-accuracy=0.989000\n",
      "INFO:root:Epoch[15] Batch [200]\tSpeed: 27768.36 samples/sec\taccuracy=0.996200\n",
      "INFO:root:Epoch[15] Batch [400]\tSpeed: 27618.89 samples/sec\taccuracy=0.996350\n",
      "INFO:root:Epoch[15] Batch [600]\tSpeed: 27703.86 samples/sec\taccuracy=0.996950\n",
      "INFO:root:Epoch[15] Resetting Data Iterator\n",
      "INFO:root:Epoch[15] Time cost=2.174\n",
      "INFO:root:Epoch[15] Validation-accuracy=0.989100\n",
      "INFO:root:Epoch[16] Batch [200]\tSpeed: 27770.36 samples/sec\taccuracy=0.996850\n",
      "INFO:root:Epoch[16] Batch [400]\tSpeed: 27643.10 samples/sec\taccuracy=0.996900\n",
      "INFO:root:Epoch[16] Batch [600]\tSpeed: 27711.12 samples/sec\taccuracy=0.997350\n",
      "INFO:root:Epoch[16] Resetting Data Iterator\n",
      "INFO:root:Epoch[16] Time cost=2.173\n",
      "INFO:root:Epoch[16] Validation-accuracy=0.988900\n",
      "INFO:root:Epoch[17] Batch [200]\tSpeed: 27792.48 samples/sec\taccuracy=0.997300\n",
      "INFO:root:Epoch[17] Batch [400]\tSpeed: 27632.36 samples/sec\taccuracy=0.997750\n",
      "INFO:root:Epoch[17] Batch [600]\tSpeed: 27659.38 samples/sec\taccuracy=0.997750\n",
      "INFO:root:Epoch[17] Resetting Data Iterator\n",
      "INFO:root:Epoch[17] Time cost=2.175\n",
      "INFO:root:Epoch[17] Validation-accuracy=0.988900\n",
      "INFO:root:Epoch[18] Batch [200]\tSpeed: 27750.99 samples/sec\taccuracy=0.997650\n",
      "INFO:root:Epoch[18] Batch [400]\tSpeed: 27652.30 samples/sec\taccuracy=0.998100\n",
      "INFO:root:Epoch[18] Batch [600]\tSpeed: 27716.42 samples/sec\taccuracy=0.997950\n",
      "INFO:root:Epoch[18] Resetting Data Iterator\n",
      "INFO:root:Epoch[18] Time cost=2.175\n",
      "INFO:root:Epoch[18] Validation-accuracy=0.988800\n",
      "INFO:root:Epoch[19] Batch [200]\tSpeed: 27747.11 samples/sec\taccuracy=0.998250\n",
      "INFO:root:Epoch[19] Batch [400]\tSpeed: 27709.08 samples/sec\taccuracy=0.998550\n",
      "INFO:root:Epoch[19] Batch [600]\tSpeed: 27654.49 samples/sec\taccuracy=0.998350\n",
      "INFO:root:Epoch[19] Resetting Data Iterator\n",
      "INFO:root:Epoch[19] Time cost=2.175\n",
      "INFO:root:Epoch[19] Validation-accuracy=0.988700\n"
     ]
    },
    {
     "name": "stdout",
     "output_type": "stream",
     "text": [
      "mx.model.FeedForward : elapsed time : 46.925257206\n",
      "Validation accuracy: 98.870000%\n"
     ]
    }
   ],
   "source": [
    "# @@@ AUTOTEST_OUTPUT_IGNORED_CELL\n",
    "start_time = timeit.default_timer()\n",
    "model = mx.model.FeedForward(\n",
    "    ctx = mx.gpu(0),     # use GPU 0 for training, others are same as before\n",
    "    symbol = lenet,       \n",
    "    num_epoch = 20,     \n",
    "    learning_rate = 0.1)\n",
    "print \"mx.model.FeedForward : elapsed time :\", timeit.default_timer() - start_time\n",
    "\n",
    "start_time = timeit.default_timer()\n",
    "model.fit(\n",
    "    X=train_iter,  \n",
    "    eval_data=val_iter, \n",
    "    batch_end_callback = mx.callback.Speedometer(batch_size, 200)\n",
    ") \n",
    "print \"mx.model.FeedForward : elapsed time :\", timeit.default_timer() - start_time\n",
    "\n",
    "valid_acc = model.score(val_iter)\n",
    "print 'Validation accuracy: %f%%' % (valid_acc *100,)\n",
    "assert model.score(val_iter) > 0.98, \"Low validation accuracy.\""
   ]
  },
  {
   "cell_type": "code",
   "execution_count": null,
   "metadata": {},
   "outputs": [],
   "source": []
  }
 ],
 "metadata": {
  "kernelspec": {
   "display_name": "Environment (conda_mxnet_p27)",
   "language": "python",
   "name": "conda_mxnet_p27"
  },
  "language_info": {
   "codemirror_mode": {
    "name": "ipython",
    "version": 2
   },
   "file_extension": ".py",
   "mimetype": "text/x-python",
   "name": "python",
   "nbconvert_exporter": "python",
   "pygments_lexer": "ipython2",
   "version": "2.7.14"
  }
 },
 "nbformat": 4,
 "nbformat_minor": 2
}
